{
 "cells": [
  {
   "cell_type": "code",
   "execution_count": 4,
   "id": "be3d4132",
   "metadata": {},
   "outputs": [
    {
     "name": "stdout",
     "output_type": "stream",
     "text": [
      "What is your email: nandanuruli16@gmail.com\n",
      "What is your email password: ········\n"
     ]
    }
   ],
   "source": [
    "#library\n",
    "import smtplib #modul untuk mengirim email\n",
    "import getpass \n",
    "\n",
    "\n",
    "#email pengirim\n",
    "email_add= input('What is your email: ') #Email address\n",
    "email_pass= getpass.getpass('What is your email password: ') #email password\n",
    "\n",
    "\n",
    "#list penerima email dengan file txt\n",
    "with open(\"Receiver_list.txt\") as r:\n",
    "    receiver = r.readlines()\n",
    "\n",
    "#setting SMTP server   \n",
    "with smtplib.SMTP('smtp.gmail.com', 587) as smtp: #servernya menggunakan gmail\n",
    "    smtp.ehlo() #start connection\n",
    "    smtp.starttls() #\n",
    "    smtp.ehlo()\n",
    "    \n",
    "    smtp.login(email_add, email_pass)\n",
    "    \n",
    "    subject = 'Test' #subject email\n",
    "    body = 'Hallo! Bagaimana Kabarnya?' #body email\n",
    "    \n",
    "    message= f'Subject: {subject}\\n{body}\\n\\n\\n----Nanda----'\n",
    "    \n",
    "    smtp.sendmail(email_add,receiver,message) #send email\n",
    "    \n",
    "    \n",
    "#referensi: https://www.youtube.com/watch?v=JRCJ6RtE3xU\n",
    "#referensi: https://www.pythontutorial.net/python-basics/python-read-text-file/"
   ]
  },
  {
   "cell_type": "code",
   "execution_count": null,
   "id": "7c7e9def",
   "metadata": {},
   "outputs": [],
   "source": []
  }
 ],
 "metadata": {
  "kernelspec": {
   "display_name": "Python 3 (ipykernel)",
   "language": "python",
   "name": "python3"
  },
  "language_info": {
   "codemirror_mode": {
    "name": "ipython",
    "version": 3
   },
   "file_extension": ".py",
   "mimetype": "text/x-python",
   "name": "python",
   "nbconvert_exporter": "python",
   "pygments_lexer": "ipython3",
   "version": "3.9.7"
  }
 },
 "nbformat": 4,
 "nbformat_minor": 5
}
